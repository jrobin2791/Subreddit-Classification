{
 "cells": [
  {
   "cell_type": "code",
   "execution_count": 1,
   "metadata": {},
   "outputs": [],
   "source": [
    "import pandas as pd\n",
    "import numpy as np\n",
    "import matplotlib.pyplot as plt\n",
    "import requests\n",
    "import time\n",
    "import datetime as dt\n",
    "from sklearn.linear_model import LogisticRegression\n",
    "from sklearn.neighbors import KNeighborsClassifier\n",
    "from sklearn.model_selection import train_test_split, cross_val_score, GridSearchCV\n",
    "from sklearn.feature_extraction.text import CountVectorizer, TfidfVectorizer\n",
    "from sklearn.pipeline import Pipeline\n",
    "from nltk.stem import WordNetLemmatizer\n",
    "from nltk.stem.porter import PorterStemmer\n",
    "from nltk.tokenize import WhitespaceTokenizer\n",
    "from sklearn.naive_bayes import MultinomialNB\n",
    "from sklearn.ensemble import RandomForestClassifier\n",
    "\n",
    "import warnings \n",
    "warnings.filterwarnings('ignore') "
   ]
  },
  {
   "cell_type": "code",
   "execution_count": 2,
   "metadata": {},
   "outputs": [],
   "source": [
    "edm_slug = 'EDM' # the slug for subreddit r\\EDM\n",
    "rock_slug = 'rock' # the slug for subreddit r\\rock"
   ]
  },
  {
   "cell_type": "code",
   "execution_count": 3,
   "metadata": {},
   "outputs": [],
   "source": [
    "# this function was slightly modified from Brian Collins' lecture\n",
    "def query_pushshift(subreddit, kind='submission', skip=30, times=18, \n",
    "                    subfield = ['title', 'selftext', 'subreddit', 'created_utc', 'author', 'num_comments', 'score', 'is_self'],\n",
    "                    comfields = ['body', 'score', 'created_utc']):\n",
    "\n",
    "    stem = \"https://api.pushshift.io/reddit/search/{}/?subreddit={}&size=500\".format(kind, subreddit)\n",
    "    mylist = []\n",
    "    \n",
    "    for x in range(1, times):\n",
    "        \n",
    "        URL = \"{}&after={}d\".format(stem, skip * x)\n",
    "        print(URL)\n",
    "        response = requests.get(URL)\n",
    "        assert response.status_code == 200\n",
    "        mine = response.json()['data']\n",
    "        df = pd.DataFrame.from_dict(mine)\n",
    "        mylist.append(df)\n",
    "        time.sleep(2)\n",
    "        \n",
    "    full = pd.concat(mylist, sort=False)\n",
    "    \n",
    "    if kind == \"submission\":\n",
    "        \n",
    "        full = full[subfield]\n",
    "        \n",
    "        full = full.drop_duplicates()\n",
    "        \n",
    "        full = full.loc[full['is_self'] == True]\n",
    "        \n",
    "    def get_date(created):\n",
    "        return dt.date.fromtimestamp(created)\n",
    "    \n",
    "    _timestamp = full[\"created_utc\"].apply(get_date)\n",
    "    \n",
    "    full['timestamp'] = _timestamp\n",
    "\n",
    "    print(full.shape)\n",
    "    \n",
    "    return full  "
   ]
  },
  {
   "cell_type": "code",
   "execution_count": 4,
   "metadata": {},
   "outputs": [
    {
     "name": "stdout",
     "output_type": "stream",
     "text": [
      "https://api.pushshift.io/reddit/search/submission/?subreddit=EDM&size=500&after=30d\n",
      "https://api.pushshift.io/reddit/search/submission/?subreddit=EDM&size=500&after=60d\n",
      "https://api.pushshift.io/reddit/search/submission/?subreddit=EDM&size=500&after=90d\n",
      "https://api.pushshift.io/reddit/search/submission/?subreddit=EDM&size=500&after=120d\n",
      "https://api.pushshift.io/reddit/search/submission/?subreddit=EDM&size=500&after=150d\n",
      "https://api.pushshift.io/reddit/search/submission/?subreddit=EDM&size=500&after=180d\n",
      "https://api.pushshift.io/reddit/search/submission/?subreddit=EDM&size=500&after=210d\n",
      "https://api.pushshift.io/reddit/search/submission/?subreddit=EDM&size=500&after=240d\n",
      "https://api.pushshift.io/reddit/search/submission/?subreddit=EDM&size=500&after=270d\n",
      "https://api.pushshift.io/reddit/search/submission/?subreddit=EDM&size=500&after=300d\n",
      "https://api.pushshift.io/reddit/search/submission/?subreddit=EDM&size=500&after=330d\n",
      "https://api.pushshift.io/reddit/search/submission/?subreddit=EDM&size=500&after=360d\n",
      "https://api.pushshift.io/reddit/search/submission/?subreddit=EDM&size=500&after=390d\n",
      "https://api.pushshift.io/reddit/search/submission/?subreddit=EDM&size=500&after=420d\n",
      "https://api.pushshift.io/reddit/search/submission/?subreddit=EDM&size=500&after=450d\n",
      "https://api.pushshift.io/reddit/search/submission/?subreddit=EDM&size=500&after=480d\n",
      "https://api.pushshift.io/reddit/search/submission/?subreddit=EDM&size=500&after=510d\n",
      "(1997, 9)\n"
     ]
    }
   ],
   "source": [
    "# calling the function to collect posts from EDM subreddit\n",
    "edm_df = query_pushshift(edm_slug)"
   ]
  },
  {
   "cell_type": "code",
   "execution_count": 5,
   "metadata": {},
   "outputs": [
    {
     "data": {
      "text/html": [
       "<div>\n",
       "<style scoped>\n",
       "    .dataframe tbody tr th:only-of-type {\n",
       "        vertical-align: middle;\n",
       "    }\n",
       "\n",
       "    .dataframe tbody tr th {\n",
       "        vertical-align: top;\n",
       "    }\n",
       "\n",
       "    .dataframe thead th {\n",
       "        text-align: right;\n",
       "    }\n",
       "</style>\n",
       "<table border=\"1\" class=\"dataframe\">\n",
       "  <thead>\n",
       "    <tr style=\"text-align: right;\">\n",
       "      <th></th>\n",
       "      <th>title</th>\n",
       "      <th>selftext</th>\n",
       "      <th>subreddit</th>\n",
       "      <th>created_utc</th>\n",
       "      <th>author</th>\n",
       "      <th>num_comments</th>\n",
       "      <th>score</th>\n",
       "      <th>is_self</th>\n",
       "      <th>timestamp</th>\n",
       "    </tr>\n",
       "  </thead>\n",
       "  <tbody>\n",
       "    <tr>\n",
       "      <th>2</th>\n",
       "      <td>New music</td>\n",
       "      <td>[removed]</td>\n",
       "      <td>EDM</td>\n",
       "      <td>1552185217</td>\n",
       "      <td>Chambo265</td>\n",
       "      <td>0</td>\n",
       "      <td>1</td>\n",
       "      <td>True</td>\n",
       "      <td>2019-03-09</td>\n",
       "    </tr>\n",
       "    <tr>\n",
       "      <th>9</th>\n",
       "      <td>Suggestions for best free EDM production softw...</td>\n",
       "      <td>So I've started to get into EDM in the past ye...</td>\n",
       "      <td>EDM</td>\n",
       "      <td>1552198808</td>\n",
       "      <td>Sick_Whip</td>\n",
       "      <td>11</td>\n",
       "      <td>12</td>\n",
       "      <td>True</td>\n",
       "      <td>2019-03-10</td>\n",
       "    </tr>\n",
       "    <tr>\n",
       "      <th>11</th>\n",
       "      <td>Floopy Goober - S P U R</td>\n",
       "      <td>[removed]</td>\n",
       "      <td>EDM</td>\n",
       "      <td>1552205602</td>\n",
       "      <td>tranecod</td>\n",
       "      <td>0</td>\n",
       "      <td>1</td>\n",
       "      <td>True</td>\n",
       "      <td>2019-03-10</td>\n",
       "    </tr>\n",
       "    <tr>\n",
       "      <th>16</th>\n",
       "      <td>please recommend some chill music(i don't real...</td>\n",
       "      <td>so I come back to edm and want to find music l...</td>\n",
       "      <td>EDM</td>\n",
       "      <td>1552215695</td>\n",
       "      <td>patricktu1258</td>\n",
       "      <td>7</td>\n",
       "      <td>1</td>\n",
       "      <td>True</td>\n",
       "      <td>2019-03-10</td>\n",
       "    </tr>\n",
       "    <tr>\n",
       "      <th>21</th>\n",
       "      <td>Weekly General Discussion - March 10, 2019</td>\n",
       "      <td>Welcome to this week's free talk thread. Pleas...</td>\n",
       "      <td>EDM</td>\n",
       "      <td>1552220104</td>\n",
       "      <td>AutoModerator</td>\n",
       "      <td>0</td>\n",
       "      <td>1</td>\n",
       "      <td>True</td>\n",
       "      <td>2019-03-10</td>\n",
       "    </tr>\n",
       "  </tbody>\n",
       "</table>\n",
       "</div>"
      ],
      "text/plain": [
       "                                                title  \\\n",
       "2                                           New music   \n",
       "9   Suggestions for best free EDM production softw...   \n",
       "11                            Floopy Goober - S P U R   \n",
       "16  please recommend some chill music(i don't real...   \n",
       "21         Weekly General Discussion - March 10, 2019   \n",
       "\n",
       "                                             selftext subreddit  created_utc  \\\n",
       "2                                           [removed]       EDM   1552185217   \n",
       "9   So I've started to get into EDM in the past ye...       EDM   1552198808   \n",
       "11                                          [removed]       EDM   1552205602   \n",
       "16  so I come back to edm and want to find music l...       EDM   1552215695   \n",
       "21  Welcome to this week's free talk thread. Pleas...       EDM   1552220104   \n",
       "\n",
       "           author  num_comments  score  is_self   timestamp  \n",
       "2       Chambo265             0      1     True  2019-03-09  \n",
       "9       Sick_Whip            11     12     True  2019-03-10  \n",
       "11       tranecod             0      1     True  2019-03-10  \n",
       "16  patricktu1258             7      1     True  2019-03-10  \n",
       "21  AutoModerator             0      1     True  2019-03-10  "
      ]
     },
     "execution_count": 5,
     "metadata": {},
     "output_type": "execute_result"
    }
   ],
   "source": [
    "# checking the result\n",
    "edm_df.head()"
   ]
  },
  {
   "cell_type": "code",
   "execution_count": 6,
   "metadata": {},
   "outputs": [
    {
     "data": {
      "text/plain": [
       "Is someone willing to buy a qlimax ticket (will pay obviously)              2\n",
       "Need help finding a song                                                    2\n",
       "[THREE GENRES IN ONE ! ] - SVDDEN DEATH X AFK - BZZRK (SØL X OHNO REMIX)    2\n",
       "What is EDM like in Las Vegas?                                              2\n",
       "...                                                                         2\n",
       "Name: title, dtype: int64"
      ]
     },
     "execution_count": 6,
     "metadata": {},
     "output_type": "execute_result"
    }
   ],
   "source": [
    "# checking for duplicate titles\n",
    "edm_df['title'].value_counts().head()"
   ]
  },
  {
   "cell_type": "code",
   "execution_count": 7,
   "metadata": {},
   "outputs": [
    {
     "data": {
      "text/plain": [
       "Which EDM song has been the most remixed so far?                                                            1\n",
       "Malaa live?                                                                                                 1\n",
       "Progressive House playlist!                                                                                 1\n",
       "[Question] How long is typically warm-up for big name artists? (R3hab concert)                              1\n",
       "I helped develop an app where people can listen to music and chat at the same time! It’s called Playlist    1\n",
       "Name: title, dtype: int64"
      ]
     },
     "execution_count": 7,
     "metadata": {},
     "output_type": "execute_result"
    }
   ],
   "source": [
    "# removing any duplicate titles\n",
    "edm_df.drop_duplicates(subset='title', inplace=True)\n",
    "# ensuring that this was done properly\n",
    "edm_df['title'].value_counts().head()"
   ]
  },
  {
   "cell_type": "code",
   "execution_count": 8,
   "metadata": {},
   "outputs": [
    {
     "data": {
      "text/plain": [
       "(1963, 9)"
      ]
     },
     "execution_count": 8,
     "metadata": {},
     "output_type": "execute_result"
    }
   ],
   "source": [
    "# checking the number of rows and columns in the dataset\n",
    "edm_df.shape"
   ]
  },
  {
   "cell_type": "code",
   "execution_count": 9,
   "metadata": {},
   "outputs": [
    {
     "name": "stdout",
     "output_type": "stream",
     "text": [
      "https://api.pushshift.io/reddit/search/submission/?subreddit=rock&size=500&after=30d\n",
      "https://api.pushshift.io/reddit/search/submission/?subreddit=rock&size=500&after=60d\n",
      "https://api.pushshift.io/reddit/search/submission/?subreddit=rock&size=500&after=90d\n",
      "https://api.pushshift.io/reddit/search/submission/?subreddit=rock&size=500&after=120d\n",
      "https://api.pushshift.io/reddit/search/submission/?subreddit=rock&size=500&after=150d\n",
      "https://api.pushshift.io/reddit/search/submission/?subreddit=rock&size=500&after=180d\n",
      "https://api.pushshift.io/reddit/search/submission/?subreddit=rock&size=500&after=210d\n",
      "https://api.pushshift.io/reddit/search/submission/?subreddit=rock&size=500&after=240d\n",
      "https://api.pushshift.io/reddit/search/submission/?subreddit=rock&size=500&after=270d\n",
      "https://api.pushshift.io/reddit/search/submission/?subreddit=rock&size=500&after=300d\n",
      "https://api.pushshift.io/reddit/search/submission/?subreddit=rock&size=500&after=330d\n",
      "https://api.pushshift.io/reddit/search/submission/?subreddit=rock&size=500&after=360d\n",
      "https://api.pushshift.io/reddit/search/submission/?subreddit=rock&size=500&after=390d\n",
      "https://api.pushshift.io/reddit/search/submission/?subreddit=rock&size=500&after=420d\n",
      "https://api.pushshift.io/reddit/search/submission/?subreddit=rock&size=500&after=450d\n",
      "https://api.pushshift.io/reddit/search/submission/?subreddit=rock&size=500&after=480d\n",
      "https://api.pushshift.io/reddit/search/submission/?subreddit=rock&size=500&after=510d\n",
      "https://api.pushshift.io/reddit/search/submission/?subreddit=rock&size=500&after=540d\n",
      "https://api.pushshift.io/reddit/search/submission/?subreddit=rock&size=500&after=570d\n",
      "https://api.pushshift.io/reddit/search/submission/?subreddit=rock&size=500&after=600d\n",
      "https://api.pushshift.io/reddit/search/submission/?subreddit=rock&size=500&after=630d\n",
      "https://api.pushshift.io/reddit/search/submission/?subreddit=rock&size=500&after=660d\n",
      "https://api.pushshift.io/reddit/search/submission/?subreddit=rock&size=500&after=690d\n",
      "https://api.pushshift.io/reddit/search/submission/?subreddit=rock&size=500&after=720d\n",
      "https://api.pushshift.io/reddit/search/submission/?subreddit=rock&size=500&after=750d\n",
      "https://api.pushshift.io/reddit/search/submission/?subreddit=rock&size=500&after=780d\n",
      "https://api.pushshift.io/reddit/search/submission/?subreddit=rock&size=500&after=810d\n",
      "https://api.pushshift.io/reddit/search/submission/?subreddit=rock&size=500&after=840d\n",
      "https://api.pushshift.io/reddit/search/submission/?subreddit=rock&size=500&after=870d\n",
      "https://api.pushshift.io/reddit/search/submission/?subreddit=rock&size=500&after=900d\n",
      "https://api.pushshift.io/reddit/search/submission/?subreddit=rock&size=500&after=930d\n",
      "https://api.pushshift.io/reddit/search/submission/?subreddit=rock&size=500&after=960d\n",
      "https://api.pushshift.io/reddit/search/submission/?subreddit=rock&size=500&after=990d\n",
      "https://api.pushshift.io/reddit/search/submission/?subreddit=rock&size=500&after=1020d\n",
      "https://api.pushshift.io/reddit/search/submission/?subreddit=rock&size=500&after=1050d\n",
      "https://api.pushshift.io/reddit/search/submission/?subreddit=rock&size=500&after=1080d\n",
      "https://api.pushshift.io/reddit/search/submission/?subreddit=rock&size=500&after=1110d\n",
      "https://api.pushshift.io/reddit/search/submission/?subreddit=rock&size=500&after=1140d\n",
      "https://api.pushshift.io/reddit/search/submission/?subreddit=rock&size=500&after=1170d\n",
      "https://api.pushshift.io/reddit/search/submission/?subreddit=rock&size=500&after=1200d\n",
      "https://api.pushshift.io/reddit/search/submission/?subreddit=rock&size=500&after=1230d\n",
      "https://api.pushshift.io/reddit/search/submission/?subreddit=rock&size=500&after=1260d\n",
      "https://api.pushshift.io/reddit/search/submission/?subreddit=rock&size=500&after=1290d\n",
      "https://api.pushshift.io/reddit/search/submission/?subreddit=rock&size=500&after=1320d\n",
      "https://api.pushshift.io/reddit/search/submission/?subreddit=rock&size=500&after=1350d\n",
      "https://api.pushshift.io/reddit/search/submission/?subreddit=rock&size=500&after=1380d\n",
      "https://api.pushshift.io/reddit/search/submission/?subreddit=rock&size=500&after=1410d\n",
      "https://api.pushshift.io/reddit/search/submission/?subreddit=rock&size=500&after=1440d\n",
      "https://api.pushshift.io/reddit/search/submission/?subreddit=rock&size=500&after=1470d\n",
      "https://api.pushshift.io/reddit/search/submission/?subreddit=rock&size=500&after=1500d\n",
      "https://api.pushshift.io/reddit/search/submission/?subreddit=rock&size=500&after=1530d\n",
      "https://api.pushshift.io/reddit/search/submission/?subreddit=rock&size=500&after=1560d\n",
      "https://api.pushshift.io/reddit/search/submission/?subreddit=rock&size=500&after=1590d\n",
      "https://api.pushshift.io/reddit/search/submission/?subreddit=rock&size=500&after=1620d\n",
      "https://api.pushshift.io/reddit/search/submission/?subreddit=rock&size=500&after=1650d\n",
      "https://api.pushshift.io/reddit/search/submission/?subreddit=rock&size=500&after=1680d\n",
      "https://api.pushshift.io/reddit/search/submission/?subreddit=rock&size=500&after=1710d\n",
      "https://api.pushshift.io/reddit/search/submission/?subreddit=rock&size=500&after=1740d\n",
      "https://api.pushshift.io/reddit/search/submission/?subreddit=rock&size=500&after=1770d\n",
      "https://api.pushshift.io/reddit/search/submission/?subreddit=rock&size=500&after=1800d\n",
      "https://api.pushshift.io/reddit/search/submission/?subreddit=rock&size=500&after=1830d\n",
      "https://api.pushshift.io/reddit/search/submission/?subreddit=rock&size=500&after=1860d\n",
      "https://api.pushshift.io/reddit/search/submission/?subreddit=rock&size=500&after=1890d\n",
      "https://api.pushshift.io/reddit/search/submission/?subreddit=rock&size=500&after=1920d\n",
      "https://api.pushshift.io/reddit/search/submission/?subreddit=rock&size=500&after=1950d\n",
      "https://api.pushshift.io/reddit/search/submission/?subreddit=rock&size=500&after=1980d\n",
      "https://api.pushshift.io/reddit/search/submission/?subreddit=rock&size=500&after=2010d\n",
      "https://api.pushshift.io/reddit/search/submission/?subreddit=rock&size=500&after=2040d\n",
      "https://api.pushshift.io/reddit/search/submission/?subreddit=rock&size=500&after=2070d\n",
      "https://api.pushshift.io/reddit/search/submission/?subreddit=rock&size=500&after=2100d\n",
      "https://api.pushshift.io/reddit/search/submission/?subreddit=rock&size=500&after=2130d\n",
      "https://api.pushshift.io/reddit/search/submission/?subreddit=rock&size=500&after=2160d\n",
      "https://api.pushshift.io/reddit/search/submission/?subreddit=rock&size=500&after=2190d\n",
      "https://api.pushshift.io/reddit/search/submission/?subreddit=rock&size=500&after=2220d\n",
      "https://api.pushshift.io/reddit/search/submission/?subreddit=rock&size=500&after=2250d\n",
      "https://api.pushshift.io/reddit/search/submission/?subreddit=rock&size=500&after=2280d\n",
      "https://api.pushshift.io/reddit/search/submission/?subreddit=rock&size=500&after=2310d\n",
      "https://api.pushshift.io/reddit/search/submission/?subreddit=rock&size=500&after=2340d\n",
      "https://api.pushshift.io/reddit/search/submission/?subreddit=rock&size=500&after=2370d\n",
      "https://api.pushshift.io/reddit/search/submission/?subreddit=rock&size=500&after=2400d\n",
      "https://api.pushshift.io/reddit/search/submission/?subreddit=rock&size=500&after=2430d\n",
      "https://api.pushshift.io/reddit/search/submission/?subreddit=rock&size=500&after=2460d\n",
      "https://api.pushshift.io/reddit/search/submission/?subreddit=rock&size=500&after=2490d\n",
      "https://api.pushshift.io/reddit/search/submission/?subreddit=rock&size=500&after=2520d\n",
      "https://api.pushshift.io/reddit/search/submission/?subreddit=rock&size=500&after=2550d\n",
      "https://api.pushshift.io/reddit/search/submission/?subreddit=rock&size=500&after=2580d\n",
      "https://api.pushshift.io/reddit/search/submission/?subreddit=rock&size=500&after=2610d\n",
      "https://api.pushshift.io/reddit/search/submission/?subreddit=rock&size=500&after=2640d\n",
      "https://api.pushshift.io/reddit/search/submission/?subreddit=rock&size=500&after=2670d\n",
      "https://api.pushshift.io/reddit/search/submission/?subreddit=rock&size=500&after=2700d\n",
      "https://api.pushshift.io/reddit/search/submission/?subreddit=rock&size=500&after=2730d\n",
      "https://api.pushshift.io/reddit/search/submission/?subreddit=rock&size=500&after=2760d\n",
      "https://api.pushshift.io/reddit/search/submission/?subreddit=rock&size=500&after=2790d\n",
      "https://api.pushshift.io/reddit/search/submission/?subreddit=rock&size=500&after=2820d\n",
      "https://api.pushshift.io/reddit/search/submission/?subreddit=rock&size=500&after=2850d\n"
     ]
    },
    {
     "name": "stdout",
     "output_type": "stream",
     "text": [
      "https://api.pushshift.io/reddit/search/submission/?subreddit=rock&size=500&after=2880d\n",
      "https://api.pushshift.io/reddit/search/submission/?subreddit=rock&size=500&after=2910d\n",
      "https://api.pushshift.io/reddit/search/submission/?subreddit=rock&size=500&after=2940d\n",
      "https://api.pushshift.io/reddit/search/submission/?subreddit=rock&size=500&after=2970d\n",
      "https://api.pushshift.io/reddit/search/submission/?subreddit=rock&size=500&after=3000d\n",
      "https://api.pushshift.io/reddit/search/submission/?subreddit=rock&size=500&after=3030d\n",
      "https://api.pushshift.io/reddit/search/submission/?subreddit=rock&size=500&after=3060d\n",
      "https://api.pushshift.io/reddit/search/submission/?subreddit=rock&size=500&after=3090d\n",
      "https://api.pushshift.io/reddit/search/submission/?subreddit=rock&size=500&after=3120d\n",
      "https://api.pushshift.io/reddit/search/submission/?subreddit=rock&size=500&after=3150d\n",
      "https://api.pushshift.io/reddit/search/submission/?subreddit=rock&size=500&after=3180d\n",
      "https://api.pushshift.io/reddit/search/submission/?subreddit=rock&size=500&after=3210d\n",
      "https://api.pushshift.io/reddit/search/submission/?subreddit=rock&size=500&after=3240d\n",
      "https://api.pushshift.io/reddit/search/submission/?subreddit=rock&size=500&after=3270d\n",
      "https://api.pushshift.io/reddit/search/submission/?subreddit=rock&size=500&after=3300d\n",
      "https://api.pushshift.io/reddit/search/submission/?subreddit=rock&size=500&after=3330d\n",
      "https://api.pushshift.io/reddit/search/submission/?subreddit=rock&size=500&after=3360d\n",
      "https://api.pushshift.io/reddit/search/submission/?subreddit=rock&size=500&after=3390d\n",
      "https://api.pushshift.io/reddit/search/submission/?subreddit=rock&size=500&after=3420d\n",
      "https://api.pushshift.io/reddit/search/submission/?subreddit=rock&size=500&after=3450d\n",
      "https://api.pushshift.io/reddit/search/submission/?subreddit=rock&size=500&after=3480d\n",
      "https://api.pushshift.io/reddit/search/submission/?subreddit=rock&size=500&after=3510d\n",
      "https://api.pushshift.io/reddit/search/submission/?subreddit=rock&size=500&after=3540d\n",
      "https://api.pushshift.io/reddit/search/submission/?subreddit=rock&size=500&after=3570d\n",
      "https://api.pushshift.io/reddit/search/submission/?subreddit=rock&size=500&after=3600d\n",
      "https://api.pushshift.io/reddit/search/submission/?subreddit=rock&size=500&after=3630d\n",
      "https://api.pushshift.io/reddit/search/submission/?subreddit=rock&size=500&after=3660d\n",
      "https://api.pushshift.io/reddit/search/submission/?subreddit=rock&size=500&after=3690d\n",
      "https://api.pushshift.io/reddit/search/submission/?subreddit=rock&size=500&after=3720d\n",
      "https://api.pushshift.io/reddit/search/submission/?subreddit=rock&size=500&after=3750d\n",
      "https://api.pushshift.io/reddit/search/submission/?subreddit=rock&size=500&after=3780d\n",
      "https://api.pushshift.io/reddit/search/submission/?subreddit=rock&size=500&after=3810d\n",
      "https://api.pushshift.io/reddit/search/submission/?subreddit=rock&size=500&after=3840d\n",
      "https://api.pushshift.io/reddit/search/submission/?subreddit=rock&size=500&after=3870d\n",
      "https://api.pushshift.io/reddit/search/submission/?subreddit=rock&size=500&after=3900d\n",
      "https://api.pushshift.io/reddit/search/submission/?subreddit=rock&size=500&after=3930d\n",
      "https://api.pushshift.io/reddit/search/submission/?subreddit=rock&size=500&after=3960d\n",
      "https://api.pushshift.io/reddit/search/submission/?subreddit=rock&size=500&after=3990d\n",
      "https://api.pushshift.io/reddit/search/submission/?subreddit=rock&size=500&after=4020d\n",
      "https://api.pushshift.io/reddit/search/submission/?subreddit=rock&size=500&after=4050d\n",
      "https://api.pushshift.io/reddit/search/submission/?subreddit=rock&size=500&after=4080d\n",
      "https://api.pushshift.io/reddit/search/submission/?subreddit=rock&size=500&after=4110d\n",
      "https://api.pushshift.io/reddit/search/submission/?subreddit=rock&size=500&after=4140d\n",
      "https://api.pushshift.io/reddit/search/submission/?subreddit=rock&size=500&after=4170d\n",
      "https://api.pushshift.io/reddit/search/submission/?subreddit=rock&size=500&after=4200d\n",
      "https://api.pushshift.io/reddit/search/submission/?subreddit=rock&size=500&after=4230d\n",
      "https://api.pushshift.io/reddit/search/submission/?subreddit=rock&size=500&after=4260d\n",
      "https://api.pushshift.io/reddit/search/submission/?subreddit=rock&size=500&after=4290d\n",
      "https://api.pushshift.io/reddit/search/submission/?subreddit=rock&size=500&after=4320d\n",
      "https://api.pushshift.io/reddit/search/submission/?subreddit=rock&size=500&after=4350d\n",
      "https://api.pushshift.io/reddit/search/submission/?subreddit=rock&size=500&after=4380d\n",
      "https://api.pushshift.io/reddit/search/submission/?subreddit=rock&size=500&after=4410d\n",
      "https://api.pushshift.io/reddit/search/submission/?subreddit=rock&size=500&after=4440d\n",
      "https://api.pushshift.io/reddit/search/submission/?subreddit=rock&size=500&after=4470d\n",
      "(1969, 9)\n"
     ]
    }
   ],
   "source": [
    "# calling the function to collect posts from rock subreddit\n",
    "rock_df = query_pushshift(rock_slug, times=150)"
   ]
  },
  {
   "cell_type": "code",
   "execution_count": 10,
   "metadata": {},
   "outputs": [
    {
     "data": {
      "text/html": [
       "<div>\n",
       "<style scoped>\n",
       "    .dataframe tbody tr th:only-of-type {\n",
       "        vertical-align: middle;\n",
       "    }\n",
       "\n",
       "    .dataframe tbody tr th {\n",
       "        vertical-align: top;\n",
       "    }\n",
       "\n",
       "    .dataframe thead th {\n",
       "        text-align: right;\n",
       "    }\n",
       "</style>\n",
       "<table border=\"1\" class=\"dataframe\">\n",
       "  <thead>\n",
       "    <tr style=\"text-align: right;\">\n",
       "      <th></th>\n",
       "      <th>title</th>\n",
       "      <th>selftext</th>\n",
       "      <th>subreddit</th>\n",
       "      <th>created_utc</th>\n",
       "      <th>author</th>\n",
       "      <th>num_comments</th>\n",
       "      <th>score</th>\n",
       "      <th>is_self</th>\n",
       "      <th>timestamp</th>\n",
       "    </tr>\n",
       "  </thead>\n",
       "  <tbody>\n",
       "    <tr>\n",
       "      <th>3</th>\n",
       "      <td>Any good rock songs from rock artists older th...</td>\n",
       "      <td>I have a firm belief that great rock is create...</td>\n",
       "      <td>rock</td>\n",
       "      <td>1552183723</td>\n",
       "      <td>The_Laviathen_Builds</td>\n",
       "      <td>20</td>\n",
       "      <td>11</td>\n",
       "      <td>True</td>\n",
       "      <td>2019-03-09</td>\n",
       "    </tr>\n",
       "    <tr>\n",
       "      <th>7</th>\n",
       "      <td>Why has rock music left the mainstream?</td>\n",
       "      <td>Elvis Presley, The Rolling Stones, Led Zeppeli...</td>\n",
       "      <td>rock</td>\n",
       "      <td>1552194724</td>\n",
       "      <td>The_Laviathen_Builds</td>\n",
       "      <td>64</td>\n",
       "      <td>45</td>\n",
       "      <td>True</td>\n",
       "      <td>2019-03-10</td>\n",
       "    </tr>\n",
       "    <tr>\n",
       "      <th>10</th>\n",
       "      <td>What's a good album to obsess over?</td>\n",
       "      <td>To clarify:  \\n\\- An album with thought-provok...</td>\n",
       "      <td>rock</td>\n",
       "      <td>1552208611</td>\n",
       "      <td>felinfine8</td>\n",
       "      <td>21</td>\n",
       "      <td>6</td>\n",
       "      <td>True</td>\n",
       "      <td>2019-03-10</td>\n",
       "    </tr>\n",
       "    <tr>\n",
       "      <th>15</th>\n",
       "      <td>Soda Stereo - De Musica Ligera</td>\n",
       "      <td>[https://www.youtube.com/watch?v=IibXYWSBpZw](...</td>\n",
       "      <td>rock</td>\n",
       "      <td>1552231584</td>\n",
       "      <td>cuntymonty</td>\n",
       "      <td>0</td>\n",
       "      <td>1</td>\n",
       "      <td>True</td>\n",
       "      <td>2019-03-10</td>\n",
       "    </tr>\n",
       "    <tr>\n",
       "      <th>33</th>\n",
       "      <td>Hey guys! Can i get some feedback on this song...</td>\n",
       "      <td>\\nhttps://soundcloud.com/m1stofficial/last-nig...</td>\n",
       "      <td>rock</td>\n",
       "      <td>1552275869</td>\n",
       "      <td>UnluckyEducator</td>\n",
       "      <td>1</td>\n",
       "      <td>0</td>\n",
       "      <td>True</td>\n",
       "      <td>2019-03-10</td>\n",
       "    </tr>\n",
       "  </tbody>\n",
       "</table>\n",
       "</div>"
      ],
      "text/plain": [
       "                                                title  \\\n",
       "3   Any good rock songs from rock artists older th...   \n",
       "7             Why has rock music left the mainstream?   \n",
       "10                What's a good album to obsess over?   \n",
       "15                     Soda Stereo - De Musica Ligera   \n",
       "33  Hey guys! Can i get some feedback on this song...   \n",
       "\n",
       "                                             selftext subreddit  created_utc  \\\n",
       "3   I have a firm belief that great rock is create...      rock   1552183723   \n",
       "7   Elvis Presley, The Rolling Stones, Led Zeppeli...      rock   1552194724   \n",
       "10  To clarify:  \\n\\- An album with thought-provok...      rock   1552208611   \n",
       "15  [https://www.youtube.com/watch?v=IibXYWSBpZw](...      rock   1552231584   \n",
       "33  \\nhttps://soundcloud.com/m1stofficial/last-nig...      rock   1552275869   \n",
       "\n",
       "                  author  num_comments  score  is_self   timestamp  \n",
       "3   The_Laviathen_Builds            20     11     True  2019-03-09  \n",
       "7   The_Laviathen_Builds            64     45     True  2019-03-10  \n",
       "10            felinfine8            21      6     True  2019-03-10  \n",
       "15            cuntymonty             0      1     True  2019-03-10  \n",
       "33       UnluckyEducator             1      0     True  2019-03-10  "
      ]
     },
     "execution_count": 10,
     "metadata": {},
     "output_type": "execute_result"
    }
   ],
   "source": [
    "# checking the result\n",
    "rock_df.head()"
   ]
  },
  {
   "cell_type": "code",
   "execution_count": 11,
   "metadata": {},
   "outputs": [
    {
     "data": {
      "text/plain": [
       "hi                           12\n",
       "ROCK ne demek ROCK Türkçe     5\n",
       "Song name?                    3\n",
       "Hi                            3\n",
       "Looking for suggestions       2\n",
       "Name: title, dtype: int64"
      ]
     },
     "execution_count": 11,
     "metadata": {},
     "output_type": "execute_result"
    }
   ],
   "source": [
    "# checking for duplicate titles\n",
    "rock_df['title'].value_counts().head()"
   ]
  },
  {
   "cell_type": "code",
   "execution_count": 12,
   "metadata": {},
   "outputs": [
    {
     "data": {
      "text/plain": [
       "Looking for Japanese-like English rock                                                                                                                             1\n",
       "What are your top ten rock bands with their best album and best song (sorry if this has been posted before)(Favorite song doesn’t have to be in favorite album)    1\n",
       "The Who                                                                                                                                                            1\n",
       "Aerosmith Las Vegas. Worth it like that?                                                                                                                           1\n",
       ".$*$.[*HD-COPY*][Watch][The Visit 2015][ Online][Free][Quality][HD]                                                                                                1\n",
       "Name: title, dtype: int64"
      ]
     },
     "execution_count": 12,
     "metadata": {},
     "output_type": "execute_result"
    }
   ],
   "source": [
    "# removing any duplicate titles\n",
    "rock_df.drop_duplicates(subset='title', inplace=True)\n",
    "# ensuring that this was done properly\n",
    "rock_df['title'].value_counts().head()"
   ]
  },
  {
   "cell_type": "code",
   "execution_count": 13,
   "metadata": {},
   "outputs": [
    {
     "data": {
      "text/plain": [
       "(1936, 9)"
      ]
     },
     "execution_count": 13,
     "metadata": {},
     "output_type": "execute_result"
    }
   ],
   "source": [
    "# checking the number of rows and columns in the dataset\n",
    "rock_df.shape"
   ]
  },
  {
   "cell_type": "code",
   "execution_count": 14,
   "metadata": {},
   "outputs": [
    {
     "data": {
      "text/plain": [
       "(3899, 9)"
      ]
     },
     "execution_count": 14,
     "metadata": {},
     "output_type": "execute_result"
    }
   ],
   "source": [
    "# merging the edm and rock posts into a single dataframe\n",
    "reddit = pd.concat([edm_df, rock_df])\n",
    "# confirming the result\n",
    "reddit.shape"
   ]
  },
  {
   "cell_type": "code",
   "execution_count": 15,
   "metadata": {},
   "outputs": [],
   "source": [
    "# saving the data to a csv file\n",
    "reddit.to_csv('reddit.csv')"
   ]
  },
  {
   "cell_type": "code",
   "execution_count": 16,
   "metadata": {},
   "outputs": [
    {
     "data": {
      "text/plain": [
       "title            0\n",
       "selftext        86\n",
       "subreddit        0\n",
       "created_utc      0\n",
       "author           0\n",
       "num_comments     0\n",
       "score            0\n",
       "is_self          0\n",
       "timestamp        0\n",
       "dtype: int64"
      ]
     },
     "execution_count": 16,
     "metadata": {},
     "output_type": "execute_result"
    }
   ],
   "source": [
    "# checking for nulls in the dataframe\n",
    "reddit.isna().sum()"
   ]
  },
  {
   "cell_type": "code",
   "execution_count": 17,
   "metadata": {},
   "outputs": [
    {
     "data": {
      "text/plain": [
       "EDM     0.503462\n",
       "rock    0.496538\n",
       "Name: subreddit, dtype: float64"
      ]
     },
     "execution_count": 17,
     "metadata": {},
     "output_type": "execute_result"
    }
   ],
   "source": [
    "# checking the the two classes are reasonably balanced\n",
    "reddit['subreddit'].value_counts(normalize=True)"
   ]
  },
  {
   "cell_type": "code",
   "execution_count": 18,
   "metadata": {},
   "outputs": [],
   "source": [
    "# turning the target column into 1's for all the EDM posts and 0's in all the rock posts\n",
    "reddit['subreddit'] = reddit['subreddit'].map({'EDM': 1, 'rock': 0})"
   ]
  },
  {
   "cell_type": "code",
   "execution_count": 19,
   "metadata": {},
   "outputs": [
    {
     "data": {
      "text/plain": [
       "Does anyone know the name of this song?    2\n",
       "Started a Discord server around music      2\n",
       "Need help finding a song!                  2\n",
       "Looking for suggestions                    2\n",
       "Can someone help me ID this song?          2\n",
       "Name: title, dtype: int64"
      ]
     },
     "execution_count": 19,
     "metadata": {},
     "output_type": "execute_result"
    }
   ],
   "source": [
    "# checkig for duplicates in the title column\n",
    "reddit['title'].value_counts().head()"
   ]
  },
  {
   "cell_type": "code",
   "execution_count": 20,
   "metadata": {},
   "outputs": [],
   "source": [
    "# dropping duplicates in the title column\n",
    "reddit.drop_duplicates(subset='title', inplace=True)"
   ]
  },
  {
   "cell_type": "code",
   "execution_count": 21,
   "metadata": {},
   "outputs": [
    {
     "data": {
      "text/plain": [
       "Any new rock songs to listen to? ive been listening to the songs over and over, and i want to hear some new ones.    1\n",
       "NOTHING BUT THIEVES                                                                                                  1\n",
       "How does a person “dj” at a club or event                                                                            1\n",
       "Help me find this ID Song Edm/trance                                                                                 1\n",
       "Can anyone suggest bands similar to led zeppelin                                                                     1\n",
       "Name: title, dtype: int64"
      ]
     },
     "execution_count": 21,
     "metadata": {},
     "output_type": "execute_result"
    }
   ],
   "source": [
    "# confirming the result\n",
    "reddit['title'].value_counts().head()"
   ]
  },
  {
   "cell_type": "code",
   "execution_count": 22,
   "metadata": {
    "scrolled": true
   },
   "outputs": [
    {
     "data": {
      "text/plain": [
       "1    0.504238\n",
       "0    0.495762\n",
       "Name: subreddit, dtype: float64"
      ]
     },
     "execution_count": 22,
     "metadata": {},
     "output_type": "execute_result"
    }
   ],
   "source": [
    "# making sure that the classes are still reasonably balanced after removing data\n",
    "reddit['subreddit'].value_counts(normalize=True)"
   ]
  },
  {
   "cell_type": "code",
   "execution_count": 23,
   "metadata": {},
   "outputs": [
    {
     "data": {
      "text/plain": [
       "2                                              [removed]\n",
       "9      So I've started to get into EDM in the past ye...\n",
       "11                                             [removed]\n",
       "16     so I come back to edm and want to find music l...\n",
       "21     Welcome to this week's free talk thread. Pleas...\n",
       "26                                                      \n",
       "30     I Personally like both for different reasons, ...\n",
       "31     Apart from Spotify, Beatport and SoundCloud, a...\n",
       "40                                                      \n",
       "43     I've seen a few people mention Slam FM on the ...\n",
       "46     Hey guys, for the past few years I've been a h...\n",
       "49     &amp;#x200B;\\n\\nRSVP-&gt; [https://www.faceboo...\n",
       "51      What is the best festival track in your opinion?\n",
       "62      Hi there everyone! I'm getting nervous and ma...\n",
       "68     I'd like to go see a DJ in Las Vegas, like Afr...\n",
       "74                                             [removed]\n",
       "76                                             [removed]\n",
       "78                                             [removed]\n",
       "80     I’m a bog fan if EDM, but I wonder if the bubb...\n",
       "81     Hey guys! I made a music discord server for pr...\n",
       "85                                             [removed]\n",
       "88     Hi all.\\n\\nSo I'm in a bit of a dilemma right ...\n",
       "94                                             [removed]\n",
       "95                                             [removed]\n",
       "97                                                      \n",
       "105    [https://pacemaker.net](https://pacemaker.net)...\n",
       "106                                            [removed]\n",
       "108    I just found his music and I’m hooked I have b...\n",
       "109    The tittle says it all, I’m a big Riddim fan a...\n",
       "112    Serious Inquiries Only!\\n\\n\\nI am looking for ...\n",
       "117    [My Playlist](https://open.spotify.com/user/me...\n",
       "132    I found a few songs that sample alan watts quo...\n",
       "134                                            [removed]\n",
       "140    [https://www.youtube.com/watch?v=SZKTeKrsBfY](...\n",
       "143    They didn't released any song since I feel it ...\n",
       "148    [https://soundcloud.com/user-544123104](https:...\n",
       "149                                            [removed]\n",
       "157                                            [removed]\n",
       "158    Selling one weekend 2 GA with shuttle at exact...\n",
       "159    Something about EDM just sticks with me and wo...\n",
       "162    Posted this last year. Have been maintaining t...\n",
       "166    [https://www.reddit.com/r/EDM/comments/64ot7t/...\n",
       "174    I was watching \"The Last Dragon\" (1985) and I ...\n",
       "175    I’ve been trying to find this song that was on...\n",
       "177                                            [removed]\n",
       "179                                            [removed]\n",
       "188    Will this be your first time listening to ATTL...\n",
       "191    [https://www.youtube.com/watch?v=OldM4NyaeKw](...\n",
       "193                                            [removed]\n",
       "200                                            [removed]\n",
       "Name: selftext, dtype: object"
      ]
     },
     "execution_count": 23,
     "metadata": {},
     "output_type": "execute_result"
    }
   ],
   "source": [
    "# examining the selftext column\n",
    "reddit['selftext'].head(50)"
   ]
  },
  {
   "cell_type": "markdown",
   "metadata": {},
   "source": [
    "Many of these threads have very little text or no textr at all in their content. Much of it is people posting links to playlists or videos. We can get enough data if we join the titles with their corresponding selftext. If the data in the selftext is not useful, I am electing to just replace it with an empty string, as it will be merged with a title later and will still have enough relevent data to be able to make predictions."
   ]
  },
  {
   "cell_type": "code",
   "execution_count": 24,
   "metadata": {},
   "outputs": [],
   "source": [
    "# replacing any NaN values with an empty string\n",
    "reddit.fillna('', inplace=True)"
   ]
  },
  {
   "cell_type": "code",
   "execution_count": 25,
   "metadata": {},
   "outputs": [
    {
     "data": {
      "text/plain": [
       "title           0\n",
       "selftext        0\n",
       "subreddit       0\n",
       "created_utc     0\n",
       "author          0\n",
       "num_comments    0\n",
       "score           0\n",
       "is_self         0\n",
       "timestamp       0\n",
       "dtype: int64"
      ]
     },
     "execution_count": 25,
     "metadata": {},
     "output_type": "execute_result"
    }
   ],
   "source": [
    "# checking that all nulls have been dealt with\n",
    "reddit.isna().sum()"
   ]
  },
  {
   "cell_type": "code",
   "execution_count": 26,
   "metadata": {},
   "outputs": [],
   "source": [
    "# this function will replace any posts that say [removed], \\[removed\\], or [deleted] with an empty string\n",
    "def blank_posts(val):\n",
    "    # checking if the value of a data point (string) is one of the three options for non-posts\n",
    "    if val == '[removed]' or val == '[deleted]' or val == '\\\\[removed\\\\]':\n",
    "        # if the posts was removed or deleted, turn it into an empty string\n",
    "        return ''\n",
    "    # otherwise, do nothing to the value\n",
    "    else:\n",
    "        return val"
   ]
  },
  {
   "cell_type": "code",
   "execution_count": 27,
   "metadata": {},
   "outputs": [],
   "source": [
    "# calling the function above to fix posts that say deleted or removed\n",
    "reddit['selftext'] = reddit['selftext'].map(lambda val: blank_posts(val))"
   ]
  },
  {
   "cell_type": "code",
   "execution_count": 28,
   "metadata": {},
   "outputs": [
    {
     "data": {
      "text/html": [
       "<div>\n",
       "<style scoped>\n",
       "    .dataframe tbody tr th:only-of-type {\n",
       "        vertical-align: middle;\n",
       "    }\n",
       "\n",
       "    .dataframe tbody tr th {\n",
       "        vertical-align: top;\n",
       "    }\n",
       "\n",
       "    .dataframe thead th {\n",
       "        text-align: right;\n",
       "    }\n",
       "</style>\n",
       "<table border=\"1\" class=\"dataframe\">\n",
       "  <thead>\n",
       "    <tr style=\"text-align: right;\">\n",
       "      <th></th>\n",
       "      <th>text</th>\n",
       "      <th>title</th>\n",
       "      <th>selftext</th>\n",
       "    </tr>\n",
       "  </thead>\n",
       "  <tbody>\n",
       "    <tr>\n",
       "      <th>2</th>\n",
       "      <td>New music</td>\n",
       "      <td>New music</td>\n",
       "      <td></td>\n",
       "    </tr>\n",
       "    <tr>\n",
       "      <th>9</th>\n",
       "      <td>Suggestions for best free EDM production softw...</td>\n",
       "      <td>Suggestions for best free EDM production softw...</td>\n",
       "      <td>So I've started to get into EDM in the past ye...</td>\n",
       "    </tr>\n",
       "    <tr>\n",
       "      <th>11</th>\n",
       "      <td>Floopy Goober - S P U R</td>\n",
       "      <td>Floopy Goober - S P U R</td>\n",
       "      <td></td>\n",
       "    </tr>\n",
       "    <tr>\n",
       "      <th>16</th>\n",
       "      <td>please recommend some chill music(i don't real...</td>\n",
       "      <td>please recommend some chill music(i don't real...</td>\n",
       "      <td>so I come back to edm and want to find music l...</td>\n",
       "    </tr>\n",
       "    <tr>\n",
       "      <th>21</th>\n",
       "      <td>Weekly General Discussion - March 10, 2019 Wel...</td>\n",
       "      <td>Weekly General Discussion - March 10, 2019</td>\n",
       "      <td>Welcome to this week's free talk thread. Pleas...</td>\n",
       "    </tr>\n",
       "    <tr>\n",
       "      <th>26</th>\n",
       "      <td>Proper starting to love psy-trance, I’m a heav...</td>\n",
       "      <td>Proper starting to love psy-trance, I’m a heav...</td>\n",
       "      <td></td>\n",
       "    </tr>\n",
       "    <tr>\n",
       "      <th>30</th>\n",
       "      <td>Which Music DJ Do You Prefer, ‘Calvin Harris’ ...</td>\n",
       "      <td>Which Music DJ Do You Prefer, ‘Calvin Harris’ ...</td>\n",
       "      <td>I Personally like both for different reasons, ...</td>\n",
       "    </tr>\n",
       "    <tr>\n",
       "      <th>31</th>\n",
       "      <td>Where do you guys find new EDM music? Apart fr...</td>\n",
       "      <td>Where do you guys find new EDM music?</td>\n",
       "      <td>Apart from Spotify, Beatport and SoundCloud, a...</td>\n",
       "    </tr>\n",
       "    <tr>\n",
       "      <th>40</th>\n",
       "      <td>What’s your “only at an EDM concert” moment?</td>\n",
       "      <td>What’s your “only at an EDM concert” moment?</td>\n",
       "      <td></td>\n",
       "    </tr>\n",
       "    <tr>\n",
       "      <th>43</th>\n",
       "      <td>Do people outside the Netherlands use Slam FM ...</td>\n",
       "      <td>Do people outside the Netherlands use Slam FM ...</td>\n",
       "      <td>I've seen a few people mention Slam FM on the ...</td>\n",
       "    </tr>\n",
       "    <tr>\n",
       "      <th>46</th>\n",
       "      <td>Where do DJs buy/download their tracks? Hey gu...</td>\n",
       "      <td>Where do DJs buy/download their tracks?</td>\n",
       "      <td>Hey guys, for the past few years I've been a h...</td>\n",
       "    </tr>\n",
       "    <tr>\n",
       "      <th>49</th>\n",
       "      <td>I'll be spinning some tunes in Miami March 23 ...</td>\n",
       "      <td>I'll be spinning some tunes in Miami March 23 ...</td>\n",
       "      <td>&amp;amp;#x200B;\\n\\nRSVP-&amp;gt; [https://www.faceboo...</td>\n",
       "    </tr>\n",
       "    <tr>\n",
       "      <th>51</th>\n",
       "      <td>Best festival track? What is the best festival...</td>\n",
       "      <td>Best festival track?</td>\n",
       "      <td>What is the best festival track in your opinion?</td>\n",
       "    </tr>\n",
       "    <tr>\n",
       "      <th>62</th>\n",
       "      <td>HELP! - I can't find someone's account I disco...</td>\n",
       "      <td>HELP! - I can't find someone's account I disco...</td>\n",
       "      <td>Hi there everyone! I'm getting nervous and ma...</td>\n",
       "    </tr>\n",
       "    <tr>\n",
       "      <th>68</th>\n",
       "      <td>Question about seeing DJ's in Las Vegas? I'd l...</td>\n",
       "      <td>Question about seeing DJ's in Las Vegas?</td>\n",
       "      <td>I'd like to go see a DJ in Las Vegas, like Afr...</td>\n",
       "    </tr>\n",
       "    <tr>\n",
       "      <th>74</th>\n",
       "      <td>Curated EDM playlist.</td>\n",
       "      <td>Curated EDM playlist.</td>\n",
       "      <td></td>\n",
       "    </tr>\n",
       "    <tr>\n",
       "      <th>76</th>\n",
       "      <td>Dedicated to curating this EDM playlist for al...</td>\n",
       "      <td>Dedicated to curating this EDM playlist for al...</td>\n",
       "      <td></td>\n",
       "    </tr>\n",
       "    <tr>\n",
       "      <th>78</th>\n",
       "      <td>Do you recognize this DJ?</td>\n",
       "      <td>Do you recognize this DJ?</td>\n",
       "      <td></td>\n",
       "    </tr>\n",
       "    <tr>\n",
       "      <th>80</th>\n",
       "      <td>Will the EDM bubble burst? I’m a bog fan if ED...</td>\n",
       "      <td>Will the EDM bubble burst?</td>\n",
       "      <td>I’m a bog fan if EDM, but I wonder if the bubb...</td>\n",
       "    </tr>\n",
       "    <tr>\n",
       "      <th>81</th>\n",
       "      <td>Finding artists/people interested in Kawaii Fu...</td>\n",
       "      <td>Finding artists/people interested in Kawaii Fu...</td>\n",
       "      <td>Hey guys! I made a music discord server for pr...</td>\n",
       "    </tr>\n",
       "  </tbody>\n",
       "</table>\n",
       "</div>"
      ],
      "text/plain": [
       "                                                 text  \\\n",
       "2                                          New music    \n",
       "9   Suggestions for best free EDM production softw...   \n",
       "11                           Floopy Goober - S P U R    \n",
       "16  please recommend some chill music(i don't real...   \n",
       "21  Weekly General Discussion - March 10, 2019 Wel...   \n",
       "26  Proper starting to love psy-trance, I’m a heav...   \n",
       "30  Which Music DJ Do You Prefer, ‘Calvin Harris’ ...   \n",
       "31  Where do you guys find new EDM music? Apart fr...   \n",
       "40      What’s your “only at an EDM concert” moment?    \n",
       "43  Do people outside the Netherlands use Slam FM ...   \n",
       "46  Where do DJs buy/download their tracks? Hey gu...   \n",
       "49  I'll be spinning some tunes in Miami March 23 ...   \n",
       "51  Best festival track? What is the best festival...   \n",
       "62  HELP! - I can't find someone's account I disco...   \n",
       "68  Question about seeing DJ's in Las Vegas? I'd l...   \n",
       "74                             Curated EDM playlist.    \n",
       "76  Dedicated to curating this EDM playlist for al...   \n",
       "78                         Do you recognize this DJ?    \n",
       "80  Will the EDM bubble burst? I’m a bog fan if ED...   \n",
       "81  Finding artists/people interested in Kawaii Fu...   \n",
       "\n",
       "                                                title  \\\n",
       "2                                           New music   \n",
       "9   Suggestions for best free EDM production softw...   \n",
       "11                            Floopy Goober - S P U R   \n",
       "16  please recommend some chill music(i don't real...   \n",
       "21         Weekly General Discussion - March 10, 2019   \n",
       "26  Proper starting to love psy-trance, I’m a heav...   \n",
       "30  Which Music DJ Do You Prefer, ‘Calvin Harris’ ...   \n",
       "31              Where do you guys find new EDM music?   \n",
       "40       What’s your “only at an EDM concert” moment?   \n",
       "43  Do people outside the Netherlands use Slam FM ...   \n",
       "46            Where do DJs buy/download their tracks?   \n",
       "49  I'll be spinning some tunes in Miami March 23 ...   \n",
       "51                               Best festival track?   \n",
       "62  HELP! - I can't find someone's account I disco...   \n",
       "68           Question about seeing DJ's in Las Vegas?   \n",
       "74                              Curated EDM playlist.   \n",
       "76  Dedicated to curating this EDM playlist for al...   \n",
       "78                          Do you recognize this DJ?   \n",
       "80                         Will the EDM bubble burst?   \n",
       "81  Finding artists/people interested in Kawaii Fu...   \n",
       "\n",
       "                                             selftext  \n",
       "2                                                      \n",
       "9   So I've started to get into EDM in the past ye...  \n",
       "11                                                     \n",
       "16  so I come back to edm and want to find music l...  \n",
       "21  Welcome to this week's free talk thread. Pleas...  \n",
       "26                                                     \n",
       "30  I Personally like both for different reasons, ...  \n",
       "31  Apart from Spotify, Beatport and SoundCloud, a...  \n",
       "40                                                     \n",
       "43  I've seen a few people mention Slam FM on the ...  \n",
       "46  Hey guys, for the past few years I've been a h...  \n",
       "49  &amp;#x200B;\\n\\nRSVP-&gt; [https://www.faceboo...  \n",
       "51   What is the best festival track in your opinion?  \n",
       "62   Hi there everyone! I'm getting nervous and ma...  \n",
       "68  I'd like to go see a DJ in Las Vegas, like Afr...  \n",
       "74                                                     \n",
       "76                                                     \n",
       "78                                                     \n",
       "80  I’m a bog fan if EDM, but I wonder if the bubb...  \n",
       "81  Hey guys! I made a music discord server for pr...  "
      ]
     },
     "execution_count": 28,
     "metadata": {},
     "output_type": "execute_result"
    }
   ],
   "source": [
    "# concatinating the titles with the self text for each reddit thread to make a new column called 'text'\n",
    "reddit['text'] = reddit['title'] + ' ' + reddit['selftext']\n",
    "# confirming the result\n",
    "reddit[['text', 'title', 'selftext']].head(20)"
   ]
  },
  {
   "cell_type": "code",
   "execution_count": 29,
   "metadata": {},
   "outputs": [
    {
     "data": {
      "text/plain": [
       "2                                          [new, music]\n",
       "9     [suggestions, for, best, free, edm, production...\n",
       "11                      [floopy, goober, -, s, p, u, r]\n",
       "16    [please, recommend, some, chill, music(i, don'...\n",
       "21    [weekly, general, discussion, -, march, 10,, 2...\n",
       "Name: text, dtype: object"
      ]
     },
     "execution_count": 29,
     "metadata": {},
     "output_type": "execute_result"
    }
   ],
   "source": [
    "# instsantiating a tokenizer\n",
    "tok = WhitespaceTokenizer()\n",
    "# tokenizing the 'text' column\n",
    "reddit['text'] = reddit['text'].map(lambda x: tok.tokenize(x.lower()))\n",
    "# confirming the result\n",
    "reddit['text'].head()"
   ]
  },
  {
   "cell_type": "code",
   "execution_count": 30,
   "metadata": {},
   "outputs": [],
   "source": [
    "# this function will take out any tokens that are URL's\n",
    "def remove_urls(word_list):\n",
    "    # for a list of tokens, filter out anything that contains 'http'\n",
    "    return [word for word in word_list if 'http' not in word]\n",
    "# calling the function on each list of tokens in the 'text' column\n",
    "reddit['text'] = reddit['text'].map(lambda x: remove_urls(x))"
   ]
  },
  {
   "cell_type": "code",
   "execution_count": 31,
   "metadata": {},
   "outputs": [
    {
     "data": {
      "text/plain": [
       "2                                           [new, music]\n",
       "9      [suggestions, for, best, free, edm, production...\n",
       "11                       [floopy, goober, -, s, p, u, r]\n",
       "16     [please, recommend, some, chill, music(i, don'...\n",
       "21     [weekly, general, discussion, -, march, 10, 20...\n",
       "26     [proper, starting, to, love, psy-trance, i’m, ...\n",
       "30     [which, music, dj, do, you, prefer, ‘calvin, h...\n",
       "31     [where, do, you, guys, find, new, edm, music, ...\n",
       "40     [what’s, your, “only, at, an, edm, concert”, m...\n",
       "43     [do, people, outside, the, netherlands, use, s...\n",
       "46     [where, do, djs, buy/download, their, tracks, ...\n",
       "49     [i'll, be, spinning, some, tunes, in, miami, m...\n",
       "51     [best, festival, track, what, is, the, best, f...\n",
       "62     [help, -, i, can't, find, someone's, account, ...\n",
       "68     [question, about, seeing, dj's, in, las, vegas...\n",
       "74                              [curated, edm, playlist]\n",
       "76     [dedicated, to, curating, this, edm, playlist,...\n",
       "78                        [do, you, recognize, this, dj]\n",
       "80     [will, the, edm, bubble, burst, i’m, a, bog, f...\n",
       "81     [finding, artists/people, interested, in, kawa...\n",
       "85                            [icon, south, -, succubus]\n",
       "88     [looking, for, edm, albums, with, cohesion, an...\n",
       "94                                         [new, alesso]\n",
       "95          [my, first, track, ever, full, of, emotions]\n",
       "97     [kaskade, &amp;, john, dahlbäck, feat, sansa, ...\n",
       "105    [anyone, else, use, pacemaker, recently, obses...\n",
       "106    [need, help, with, the, title, of, a, music, w...\n",
       "108    [artists, similar, to, dm, galaxy, i, just, fo...\n",
       "109    [marshmello, fans, who’ve, never, listened, to...\n",
       "112    [is, anyone, interested.., serious, inquiries,...\n",
       "117    [i've, just, been, picking, songs, i, like, th...\n",
       "132    [what, are, some, songs, that, have, alan, wat...\n",
       "134                   [xyconstant.., where, you, hiding]\n",
       "140                                          [finally!!]\n",
       "143    [can, anyone, tell, me, what, happened, to, da...\n",
       "148                           [my, soundcloud, playlist]\n",
       "149         [good, edm, songs, about, falling, in, love]\n",
       "157       [can, someone, help, me, identify, this, song]\n",
       "158    [selling, one, coachella, wk2, ga, with, shutt...\n",
       "159    [r/edm, i, need, your, help, finding, a, mothe...\n",
       "162    [little, bit, of, everything, posted, this, la...\n",
       "166    [[repost], has, anybody, found, the, song, pro...\n",
       "174    [help, finding, song, that, sampled, \"the, las...\n",
       "175    [song, that, starts, with, harps, i’ve, been, ...\n",
       "177                                 [beyond, wonderland]\n",
       "179                 [serenity, -, out, now, on, spotify]\n",
       "188    [who, else, is, going, to, see, attlas, at, co...\n",
       "191    [nick, muir, john, digweed, &amp;, eagles, and...\n",
       "193                                       [jackibg, off]\n",
       "200                        [cosmic, infinity, by, subha]\n",
       "Name: text, dtype: object"
      ]
     },
     "execution_count": 31,
     "metadata": {},
     "output_type": "execute_result"
    }
   ],
   "source": [
    "# this function will remove any punctuation that may exist at the end of a token\n",
    "def remove_punc(word_list):\n",
    "    # a list of punctuation characters that will be removed\n",
    "    punc_list = [\"'\", \".\", \"?\", \"!\", \",\"]\n",
    "    # if the last character of the word is one of the above characters, remove it from the word\n",
    "    return [word[:-1] if word[-1] in punc_list else word for word in word_list]\n",
    "# calling the function above on each list of tokens in the 'text' column            \n",
    "reddit['text'] = reddit['text'].map(lambda x: remove_punc(x))\n",
    "# checking that the tokens have been cleaned up sufficiently\n",
    "reddit['text'].head(50)"
   ]
  },
  {
   "cell_type": "code",
   "execution_count": 32,
   "metadata": {},
   "outputs": [
    {
     "data": {
      "text/plain": [
       "2                                          [new, music]\n",
       "9     [suggestion, for, best, free, edm, production,...\n",
       "11                      [floopy, goober, -, s, p, u, r]\n",
       "16    [please, recommend, some, chill, music(i, don'...\n",
       "21    [weekly, general, discussion, -, march, 10, 20...\n",
       "Name: text, dtype: object"
      ]
     },
     "execution_count": 32,
     "metadata": {},
     "output_type": "execute_result"
    }
   ],
   "source": [
    "# instantiating a lemmatizer\n",
    "lem = WordNetLemmatizer()\n",
    "# lemmatizing the 'text' column\n",
    "reddit['text'] = reddit['text'].map(lambda x: [lem.lemmatize(i) for i in x])\n",
    "# checking the result\n",
    "reddit['text'].head()"
   ]
  },
  {
   "cell_type": "code",
   "execution_count": 33,
   "metadata": {},
   "outputs": [],
   "source": [
    "# this function will turn each list of tokens back into a single string of text\n",
    "def make_docs(word_list):\n",
    "    # creating an empty string to store the document\n",
    "    doc = ''\n",
    "    # loop through each of the tokens\n",
    "    for word in word_list:\n",
    "        # adding each word to the document separated with a space in between \n",
    "        doc += (word + ' ')\n",
    "    # returning the updated document\n",
    "    return doc"
   ]
  },
  {
   "cell_type": "code",
   "execution_count": 34,
   "metadata": {},
   "outputs": [],
   "source": [
    "# calling the function above on the 'text' column\n",
    "reddit['text'] = reddit['text'].map(lambda x: make_docs(x))"
   ]
  },
  {
   "cell_type": "code",
   "execution_count": 35,
   "metadata": {},
   "outputs": [],
   "source": [
    "# setting the X for modeling as the 'text' column\n",
    "X = reddit['text']\n",
    "# setting the target as the 'subreddit' column\n",
    "y = reddit['subreddit']"
   ]
  },
  {
   "cell_type": "code",
   "execution_count": 36,
   "metadata": {},
   "outputs": [],
   "source": [
    "# permorming a train/test split on the data\n",
    "X_train, X_test, y_train, y_test = train_test_split(X, y, stratify=y, random_state=42)"
   ]
  },
  {
   "cell_type": "markdown",
   "metadata": {},
   "source": [
    "In testing out different models, I found that some models did better with a count vectorizer and others did better with a TF-DIF vectorizer, so I am instantiating both here. I also did grid testing to determine the best possible parameters for the two vectorizers and they both did the best with the parameters chosen below."
   ]
  },
  {
   "cell_type": "code",
   "execution_count": 37,
   "metadata": {},
   "outputs": [],
   "source": [
    "# instantiating a count vectorizer for NLP\n",
    "cvec = CountVectorizer(max_features=5_000, stop_words='english', ngram_range=(1,2))\n",
    "# instantiating a TF-DIF vectorizer for NLP\n",
    "tvec = TfidfVectorizer(max_features=5_000, stop_words='english', ngram_range=(1,2))"
   ]
  },
  {
   "cell_type": "code",
   "execution_count": 38,
   "metadata": {},
   "outputs": [],
   "source": [
    "# fitting and transforming the training data to the count vectorizer\n",
    "X_train_cv = cvec.fit_transform(X_train)\n",
    "# transforming the test data to the count vectorizer\n",
    "X_test_cv = cvec.transform(X_test)\n",
    "# fitting and transforming the training data to the TF-DIF vectorizer\n",
    "X_train_tv = tvec.fit_transform(X_train)\n",
    "# transforming the test data to the count vectorizer\n",
    "X_test_tv = tvec.transform(X_test)"
   ]
  },
  {
   "cell_type": "code",
   "execution_count": 39,
   "metadata": {},
   "outputs": [
    {
     "data": {
      "text/html": [
       "<div>\n",
       "<style scoped>\n",
       "    .dataframe tbody tr th:only-of-type {\n",
       "        vertical-align: middle;\n",
       "    }\n",
       "\n",
       "    .dataframe tbody tr th {\n",
       "        vertical-align: top;\n",
       "    }\n",
       "\n",
       "    .dataframe thead th {\n",
       "        text-align: right;\n",
       "    }\n",
       "</style>\n",
       "<table border=\"1\" class=\"dataframe\">\n",
       "  <thead>\n",
       "    <tr style=\"text-align: right;\">\n",
       "      <th></th>\n",
       "      <th>00</th>\n",
       "      <th>000</th>\n",
       "      <th>00p</th>\n",
       "      <th>01</th>\n",
       "      <th>10</th>\n",
       "      <th>10 000</th>\n",
       "      <th>10 cold</th>\n",
       "      <th>10 year</th>\n",
       "      <th>100</th>\n",
       "      <th>100 dj</th>\n",
       "      <th>...</th>\n",
       "      <th>zeppelin</th>\n",
       "      <th>zeppelin fan</th>\n",
       "      <th>zeppelin song</th>\n",
       "      <th>zepplin</th>\n",
       "      <th>zero</th>\n",
       "      <th>zevon</th>\n",
       "      <th>zhu</th>\n",
       "      <th>zombie</th>\n",
       "      <th>zomboy</th>\n",
       "      <th>zz</th>\n",
       "    </tr>\n",
       "  </thead>\n",
       "  <tbody>\n",
       "    <tr>\n",
       "      <th>0</th>\n",
       "      <td>0</td>\n",
       "      <td>0</td>\n",
       "      <td>0</td>\n",
       "      <td>0</td>\n",
       "      <td>0</td>\n",
       "      <td>0</td>\n",
       "      <td>0</td>\n",
       "      <td>0</td>\n",
       "      <td>0</td>\n",
       "      <td>0</td>\n",
       "      <td>...</td>\n",
       "      <td>0</td>\n",
       "      <td>0</td>\n",
       "      <td>0</td>\n",
       "      <td>0</td>\n",
       "      <td>0</td>\n",
       "      <td>0</td>\n",
       "      <td>0</td>\n",
       "      <td>0</td>\n",
       "      <td>0</td>\n",
       "      <td>0</td>\n",
       "    </tr>\n",
       "    <tr>\n",
       "      <th>1</th>\n",
       "      <td>0</td>\n",
       "      <td>0</td>\n",
       "      <td>0</td>\n",
       "      <td>0</td>\n",
       "      <td>0</td>\n",
       "      <td>0</td>\n",
       "      <td>0</td>\n",
       "      <td>0</td>\n",
       "      <td>0</td>\n",
       "      <td>0</td>\n",
       "      <td>...</td>\n",
       "      <td>0</td>\n",
       "      <td>0</td>\n",
       "      <td>0</td>\n",
       "      <td>0</td>\n",
       "      <td>0</td>\n",
       "      <td>0</td>\n",
       "      <td>0</td>\n",
       "      <td>0</td>\n",
       "      <td>0</td>\n",
       "      <td>0</td>\n",
       "    </tr>\n",
       "    <tr>\n",
       "      <th>2</th>\n",
       "      <td>0</td>\n",
       "      <td>0</td>\n",
       "      <td>0</td>\n",
       "      <td>0</td>\n",
       "      <td>0</td>\n",
       "      <td>0</td>\n",
       "      <td>0</td>\n",
       "      <td>0</td>\n",
       "      <td>0</td>\n",
       "      <td>0</td>\n",
       "      <td>...</td>\n",
       "      <td>0</td>\n",
       "      <td>0</td>\n",
       "      <td>0</td>\n",
       "      <td>0</td>\n",
       "      <td>0</td>\n",
       "      <td>0</td>\n",
       "      <td>0</td>\n",
       "      <td>0</td>\n",
       "      <td>0</td>\n",
       "      <td>0</td>\n",
       "    </tr>\n",
       "    <tr>\n",
       "      <th>3</th>\n",
       "      <td>0</td>\n",
       "      <td>0</td>\n",
       "      <td>0</td>\n",
       "      <td>0</td>\n",
       "      <td>0</td>\n",
       "      <td>0</td>\n",
       "      <td>0</td>\n",
       "      <td>0</td>\n",
       "      <td>0</td>\n",
       "      <td>0</td>\n",
       "      <td>...</td>\n",
       "      <td>0</td>\n",
       "      <td>0</td>\n",
       "      <td>0</td>\n",
       "      <td>0</td>\n",
       "      <td>0</td>\n",
       "      <td>0</td>\n",
       "      <td>0</td>\n",
       "      <td>0</td>\n",
       "      <td>0</td>\n",
       "      <td>0</td>\n",
       "    </tr>\n",
       "    <tr>\n",
       "      <th>4</th>\n",
       "      <td>0</td>\n",
       "      <td>0</td>\n",
       "      <td>0</td>\n",
       "      <td>0</td>\n",
       "      <td>0</td>\n",
       "      <td>0</td>\n",
       "      <td>0</td>\n",
       "      <td>0</td>\n",
       "      <td>0</td>\n",
       "      <td>0</td>\n",
       "      <td>...</td>\n",
       "      <td>0</td>\n",
       "      <td>0</td>\n",
       "      <td>0</td>\n",
       "      <td>0</td>\n",
       "      <td>0</td>\n",
       "      <td>0</td>\n",
       "      <td>0</td>\n",
       "      <td>0</td>\n",
       "      <td>0</td>\n",
       "      <td>0</td>\n",
       "    </tr>\n",
       "  </tbody>\n",
       "</table>\n",
       "<p>5 rows × 5000 columns</p>\n",
       "</div>"
      ],
      "text/plain": [
       "   00  000  00p  01  10  10 000  10 cold  10 year  100  100 dj ...  zeppelin  \\\n",
       "0   0    0    0   0   0       0        0        0    0       0 ...         0   \n",
       "1   0    0    0   0   0       0        0        0    0       0 ...         0   \n",
       "2   0    0    0   0   0       0        0        0    0       0 ...         0   \n",
       "3   0    0    0   0   0       0        0        0    0       0 ...         0   \n",
       "4   0    0    0   0   0       0        0        0    0       0 ...         0   \n",
       "\n",
       "   zeppelin fan  zeppelin song  zepplin  zero  zevon  zhu  zombie  zomboy  zz  \n",
       "0             0              0        0     0      0    0       0       0   0  \n",
       "1             0              0        0     0      0    0       0       0   0  \n",
       "2             0              0        0     0      0    0       0       0   0  \n",
       "3             0              0        0     0      0    0       0       0   0  \n",
       "4             0              0        0     0      0    0       0       0   0  \n",
       "\n",
       "[5 rows x 5000 columns]"
      ]
     },
     "execution_count": 39,
     "metadata": {},
     "output_type": "execute_result"
    }
   ],
   "source": [
    "# storing the vectorized data in a dataframe for easy viewing and visualizations\n",
    "X_train_df = pd.DataFrame(X_train_cv.toarray(), columns=cvec.get_feature_names())\n",
    "# viewing the data\n",
    "X_train_df.head()"
   ]
  },
  {
   "cell_type": "code",
   "execution_count": 40,
   "metadata": {},
   "outputs": [
    {
     "name": "stdout",
     "output_type": "stream",
     "text": [
      "Training Score: 0.8931140138687308\n",
      "Test Score: 0.8449626956254349\n"
     ]
    }
   ],
   "source": [
    "# instantiating a logistic regression model\n",
    "# from testing different options, the best result came from ridge regularization with an alpha of 5\n",
    "lr = LogisticRegression(C=.2)\n",
    "# fitting the count vectorized training data to the model\n",
    "lr.fit(X_train_cv, y_train)\n",
    "# evaluating the model on the training data\n",
    "print(f'Training Score: {cross_val_score(lr, X_train_cv, y_train, cv=5).mean()}')\n",
    "# evaluating the model on the testing data\n",
    "print(f'Test Score: {cross_val_score(lr, X_test_cv, y_test, cv=5).mean()}')"
   ]
  },
  {
   "cell_type": "code",
   "execution_count": 41,
   "metadata": {},
   "outputs": [
    {
     "name": "stdout",
     "output_type": "stream",
     "text": [
      "Training Score: 0.8770010702086173\n",
      "Test Score: 0.8500646285476918\n"
     ]
    }
   ],
   "source": [
    "# instantiating a logistic regression model\n",
    "# from testing different options, the best result came from ridge regularization with an alpha of 5\n",
    "lr = LogisticRegression(C=.2)\n",
    "# fitting the TF-DIF vectorized training data to the model\n",
    "lr.fit(X_train_tv, y_train)\n",
    "# evaluating the model on the training data\n",
    "print(f'Training Score: {cross_val_score(lr, X_train_tv, y_train, cv=5).mean()}')\n",
    "# evaluating the model on the testing data\n",
    "print(f'Test Score: {cross_val_score(lr, X_test_tv, y_test, cv=5).mean()}')"
   ]
  },
  {
   "cell_type": "code",
   "execution_count": 42,
   "metadata": {},
   "outputs": [
    {
     "data": {
      "image/png": "[encoded data removed]",
      "text/plain": [
       "<Figure size 1080x576 with 1 Axes>"
      ]
     },
     "metadata": {
      "needs_background": "light"
     },
     "output_type": "display_data"
    }
   ],
   "source": [
    "# creating a list of all words being analyzed with their corresponding coefficients from logistic regression\n",
    "log_coefs = pd.DataFrame(list(zip(X_train_df, np.exp(lr.coef_[0]))))\n",
    "# creating a table of the top 15 coefficients and the words they belong to\n",
    "table = log_coefs.sort_values(1, ascending=False).head(15)\n",
    "# creating a figure in matplotlib and setting the size of the figure\n",
    "plt.figure(figsize=(15,8))\n",
    "# plotting a horizontal bar chart on the figure\n",
    "plt.barh(table[0], table[1])\n",
    "# labeling and formatting the y axis\n",
    "plt.xlabel('Weight', fontsize=20)\n",
    "# setting the font for the xticks\n",
    "plt.xticks(fontsize=18)\n",
    "# the line of code below was taken from stackoverflow.com\n",
    "# flips the y axis so that the largest bars are on top\n",
    "plt.ylim(plt.ylim()[::-1])\n",
    "# setting the font of the yticks\n",
    "plt.yticks(fontsize=18)\n",
    "# setting and formatting the title\n",
    "plt.title('EDM: Best Predicting Words', fontsize=26);"
   ]
  },
  {
   "cell_type": "code",
   "execution_count": 43,
   "metadata": {},
   "outputs": [
    {
     "data": {
      "image/png": "[encoded data removed]",
      "text/plain": [
       "<Figure size 1080x576 with 1 Axes>"
      ]
     },
     "metadata": {
      "needs_background": "light"
     },
     "output_type": "display_data"
    }
   ],
   "source": [
    "# creating a table of the bottom 15 coefficients and the words they belong to\n",
    "table = log_coefs.sort_values(1).head(15)\n",
    "# creating a figure in matplotlib and setting the size of the figure\n",
    "plt.figure(figsize=(15,8))\n",
    "# plotting a horizontal bar chart on the figure\n",
    "# 1 - the coefficients to make the most relevent words the largest bar\n",
    "plt.barh(table[0], (1 - table[1]))\n",
    "# the line of code below was taken from stackoverflow.com\n",
    "# flips the y axis so that the largest bars are on top\n",
    "plt.ylim(plt.ylim()[::-1])\n",
    "# setting the font of the yticks\n",
    "plt.yticks(fontsize=18)\n",
    "# labeling and formatting the x axis\n",
    "plt.xlabel('Weight', fontsize=20)\n",
    "# setting the font of the x ticks\n",
    "plt.xticks(fontsize=18)\n",
    "# setting and formatting the title\n",
    "plt.title('Rock: Best Predicting Words', fontsize=26);"
   ]
  },
  {
   "cell_type": "code",
   "execution_count": 44,
   "metadata": {},
   "outputs": [
    {
     "name": "stdout",
     "output_type": "stream",
     "text": [
      "Training Score: 0.9095559367257481\n",
      "Test Score: 0.8665015347931402\n"
     ]
    }
   ],
   "source": [
    "# instantiating a multinomial naive bayes classifier\n",
    "nb = MultinomialNB()\n",
    "# fitting the count vectorized training data to the model\n",
    "nb.fit(X_train_cv, y_train)\n",
    "# evaluating the model on the training data\n",
    "print(f'Training Score: {cross_val_score(nb, X_train_cv, y_train, cv=5).mean()}')\n",
    "# evaluating the model on the test data\n",
    "print(f'Test Score: {cross_val_score(nb, X_test_cv, y_test, cv=5).mean()}')"
   ]
  },
  {
   "cell_type": "code",
   "execution_count": 45,
   "metadata": {},
   "outputs": [
    {
     "name": "stdout",
     "output_type": "stream",
     "text": [
      "Training Score: 0.9143481256688805\n",
      "Test Score: 0.8562238694050182\n"
     ]
    }
   ],
   "source": [
    "# instantiating a multinomial naive bayes classifier\n",
    "nb = MultinomialNB()\n",
    "# fitting the count vectorized training data to the model\n",
    "nb.fit(X_train_tv, y_train)\n",
    "# evaluating the model on the training data\n",
    "print(f'Training Score: {cross_val_score(nb, X_train_tv, y_train, cv=5).mean()}')\n",
    "# evaluating the model on the test data\n",
    "print(f'Test Score: {cross_val_score(nb, X_test_tv, y_test, cv=5).mean()}')"
   ]
  },
  {
   "cell_type": "code",
   "execution_count": 46,
   "metadata": {},
   "outputs": [],
   "source": [
    "# instantiating a pipeline for model testing\n",
    "pipe = Pipeline([\n",
    "    # the first item will be a count vectorizer with the optimal parameters from above\n",
    "    ('cvec', CountVectorizer(max_features=5_000, stop_words='english', ngram_range=(1,2))),\n",
    "    # the second item will be a random forest classifier\n",
    "    ('rf', RandomForestClassifier())\n",
    "])"
   ]
  },
  {
   "cell_type": "code",
   "execution_count": 47,
   "metadata": {},
   "outputs": [
    {
     "name": "stdout",
     "output_type": "stream",
     "text": [
      "0.8783830078794107\n"
     ]
    },
    {
     "data": {
      "text/plain": [
       "{'rf__min_samples_split': 15, 'rf__n_jobs': 16}"
      ]
     },
     "execution_count": 47,
     "metadata": {},
     "output_type": "execute_result"
    }
   ],
   "source": [
    "# setting up a parameter grid to search over\n",
    "pipe_params = {\n",
    "    # different parameter combinations to search over\n",
    "    'rf__min_samples_split': [14, 15, 16],\n",
    "    'rf__n_jobs': [14, 15, 16]\n",
    "}\n",
    "# instantiating a grid search\n",
    "gs = GridSearchCV(pipe, param_grid=pipe_params, cv=5)\n",
    "# fitting the training data to the grid search\n",
    "gs.fit(X_train, y_train)\n",
    "# printing the best resulting score\n",
    "print(gs.best_score_)\n",
    "# displaying the best resulting parameters\n",
    "gs.best_params_"
   ]
  },
  {
   "cell_type": "code",
   "execution_count": 48,
   "metadata": {},
   "outputs": [],
   "source": [
    "# instantiating a pipeline for model testing\n",
    "pipe = Pipeline([\n",
    "    # the first item will be a TF-DIF vectorizer with the optimal parameters from above\n",
    "    ('tvec', TfidfVectorizer(max_features=5_000, stop_words='english', ngram_range=(1,2))),\n",
    "    # the second item will be a random forest classifier\n",
    "    ('rf', RandomForestClassifier())\n",
    "])"
   ]
  },
  {
   "cell_type": "code",
   "execution_count": 49,
   "metadata": {},
   "outputs": [
    {
     "name": "stdout",
     "output_type": "stream",
     "text": [
      "0.869475847893114\n"
     ]
    },
    {
     "data": {
      "text/plain": [
       "{'rf__min_samples_split': 12, 'rf__n_jobs': 16}"
      ]
     },
     "execution_count": 49,
     "metadata": {},
     "output_type": "execute_result"
    }
   ],
   "source": [
    "# setting up a parameter grid to search over\n",
    "pipe_params = {\n",
    "    # different parameter combinations to search over\n",
    "    'rf__min_samples_split': [11, 12, 13, 14, 15],\n",
    "    'rf__n_jobs': [13, 14, 15, 16]\n",
    "}\n",
    "# instantiating a grid search\n",
    "gs = GridSearchCV(pipe, param_grid=pipe_params, cv=5)\n",
    "# fitting the training data to the grid search\n",
    "gs.fit(X_train, y_train)\n",
    "# printing the best resulting score\n",
    "print(gs.best_score_)\n",
    "# displaying the best resulting parameters\n",
    "gs.best_params_"
   ]
  },
  {
   "cell_type": "markdown",
   "metadata": {},
   "source": [
    "The count vectorizer seems to be performing slightly better than the TD-DIF vectorizer for the random forest, so I will use the count vectorizer in the final model."
   ]
  },
  {
   "cell_type": "code",
   "execution_count": 50,
   "metadata": {},
   "outputs": [
    {
     "name": "stdout",
     "output_type": "stream",
     "text": [
      "Training Score: 0.8691190570435854\n",
      "Test Score: 0.8347745283680483\n"
     ]
    }
   ],
   "source": [
    "# instatiating a random forest classifier with the optimal parameters from the grid search above\n",
    "rf = RandomForestClassifier(min_samples_split=13, n_jobs=15)\n",
    "# fitting the training data to the model\n",
    "lr.fit(X_train_cv, y_train)\n",
    "# evaluating the model on the training data\n",
    "print(f'Training Score: {cross_val_score(rf, X_train_cv, y_train, cv=5).mean()}')\n",
    "# evaluating the model on the test data\n",
    "print(f'Test Score: {cross_val_score(rf, X_test_cv, y_test, cv=5).mean()}')"
   ]
  },
  {
   "cell_type": "code",
   "execution_count": 51,
   "metadata": {},
   "outputs": [],
   "source": [
    "# instantiating a pipeline for model testing\n",
    "pipe = Pipeline([\n",
    "    # the first item will be a count vectorizer with the optimal parameters from above\n",
    "    ('cvec', CountVectorizer(max_features=5_000, stop_words='english', ngram_range=(1,2))),\n",
    "    # the second item will be a K-nn classifier\n",
    "    ('knn', KNeighborsClassifier())\n",
    "])"
   ]
  },
  {
   "cell_type": "code",
   "execution_count": 52,
   "metadata": {},
   "outputs": [
    {
     "name": "stdout",
     "output_type": "stream",
     "text": [
      "0.7403220280918122\n"
     ]
    },
    {
     "data": {
      "text/plain": [
       "{'knn__n_neighbors': 1}"
      ]
     },
     "execution_count": 52,
     "metadata": {},
     "output_type": "execute_result"
    }
   ],
   "source": [
    "# setting up a parameter grid to search over\n",
    "pipe_params = {\n",
    "    # setting all the values of k to test over\n",
    "    'knn__n_neighbors': [1, 3, 5, 7, 9, 11, 13]\n",
    "}\n",
    "# instantiating a grid search\n",
    "gs = GridSearchCV(pipe, param_grid=pipe_params, cv=5)\n",
    "# fitting the training data to the grid search\n",
    "gs.fit(X_train, y_train)\n",
    "# printing the best resulting score\n",
    "print(gs.best_score_)\n",
    "# displaying the best resulting parameters\n",
    "gs.best_params_"
   ]
  },
  {
   "cell_type": "code",
   "execution_count": 53,
   "metadata": {},
   "outputs": [],
   "source": [
    "# instantiating a pipeline for model testing\n",
    "pipe = Pipeline([\n",
    "    # the first item will be a TF-DIF vectorizer with the optimal parameters from above\n",
    "    ('tvec', TfidfVectorizer(max_features=5_000, stop_words='english', ngram_range=(1,2))),\n",
    "    # the second item will be a K-nn classifier\n",
    "    ('knn', KNeighborsClassifier())\n",
    "])"
   ]
  },
  {
   "cell_type": "code",
   "execution_count": 54,
   "metadata": {},
   "outputs": [
    {
     "name": "stdout",
     "output_type": "stream",
     "text": [
      "0.5594381637547106\n"
     ]
    },
    {
     "data": {
      "text/plain": [
       "{'knn__n_neighbors': 1}"
      ]
     },
     "execution_count": 54,
     "metadata": {},
     "output_type": "execute_result"
    }
   ],
   "source": [
    "# setting up a parameter grid to search over\n",
    "pipe_params = {\n",
    "    # setting all the values of k to test over\n",
    "    'knn__n_neighbors': [1, 3, 5, 7, 9, 11, 13]\n",
    "}\n",
    "# instantiating a grid search\n",
    "gs = GridSearchCV(pipe, param_grid=pipe_params, cv=5)\n",
    "# fitting the training data to the grid search\n",
    "gs.fit(X_train, y_train)\n",
    "# printing the best resulting score\n",
    "print(gs.best_score_)\n",
    "# displaying the best resulting parameters\n",
    "gs.best_params_"
   ]
  },
  {
   "cell_type": "code",
   "execution_count": 55,
   "metadata": {},
   "outputs": [
    {
     "name": "stdout",
     "output_type": "stream",
     "text": [
      "Training Score: 0.7135922358563869\n",
      "Test Score: 0.7104595208424369\n"
     ]
    }
   ],
   "source": [
    "knn = KNeighborsClassifier(n_neighbors=5)\n",
    "lr.fit(X_train_cv, y_train)\n",
    "print(f'Training Score: {cross_val_score(knn, X_train_cv, y_train, cv=5).mean()}')\n",
    "print(f'Test Score: {cross_val_score(knn, X_test_cv, y_test, cv=5).mean()}')"
   ]
  }
 ],
 "metadata": {
  "kernelspec": {
   "display_name": "Python 3",
   "language": "python",
   "name": "python3"
  },
  "language_info": {
   "codemirror_mode": {
    "name": "ipython",
    "version": 3
   },
   "file_extension": ".py",
   "mimetype": "text/x-python",
   "name": "python",
   "nbconvert_exporter": "python",
   "pygments_lexer": "ipython3",
   "version": "3.6.7"
  }
 },
 "nbformat": 4,
 "nbformat_minor": 2
}
